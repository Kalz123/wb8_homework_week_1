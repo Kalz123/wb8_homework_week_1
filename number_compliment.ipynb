{
 "cells": [
  {
   "cell_type": "code",
   "execution_count": 63,
   "id": "10eb3b1a",
   "metadata": {},
   "outputs": [],
   "source": [
    "class Solution:\n",
    "    def findComplement(self, num: int) -> int:\n",
    "        # res = bin(num)[2:]\n",
    "        # return int(\"\".join([str(abs(1-int(i))) for i in res]), 2)\n",
    "        \n",
    "        #Solution2\n",
    "        #flipping bits ^1  i.e 1^1 = 0 and 0^1 = 1\n",
    "        \n",
    "        k = num\n",
    "        bit = 1\n",
    "        while k:\n",
    "            num = num ^ bit\n",
    "            bit = bit << 1\n",
    "            k = k >> 1\n",
    "            \n",
    "        return num"
   ]
  },
  {
   "cell_type": "code",
   "execution_count": 64,
   "id": "cd3828df",
   "metadata": {},
   "outputs": [
    {
     "data": {
      "text/plain": [
       "'010'"
      ]
     },
     "execution_count": 64,
     "metadata": {},
     "output_type": "execute_result"
    }
   ],
   "source": [
    "findComplement(101)"
   ]
  },
  {
   "cell_type": "code",
   "execution_count": null,
   "id": "46eea86f",
   "metadata": {},
   "outputs": [],
   "source": []
  }
 ],
 "metadata": {
  "kernelspec": {
   "display_name": "Python 3",
   "language": "python",
   "name": "python3"
  },
  "language_info": {
   "codemirror_mode": {
    "name": "ipython",
    "version": 3
   },
   "file_extension": ".py",
   "mimetype": "text/x-python",
   "name": "python",
   "nbconvert_exporter": "python",
   "pygments_lexer": "ipython3",
   "version": "3.8.10"
  }
 },
 "nbformat": 4,
 "nbformat_minor": 5
}
