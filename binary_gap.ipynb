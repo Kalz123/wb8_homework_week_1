{
 "cells": [
  {
   "cell_type": "code",
   "execution_count": 1,
   "id": "5484985f",
   "metadata": {},
   "outputs": [],
   "source": [
    "class Solution:\n",
    "    def binaryGap(self, n: int) -> int:\n",
    "        k = \"{:b}\".format(n).strip(\"0\")\n",
    "        print(k)\n",
    "        \n",
    "        if len(k) < 2:\n",
    "            return 0\n",
    "        else:\n",
    "            k = k.split(\"1\")\n",
    "            print(k)\n",
    "            \n",
    "            ans = max(k)\n",
    "            print(ans)\n",
    "            \n",
    "        return ans.count('0') +1"
   ]
  },
  {
   "cell_type": "code",
   "execution_count": null,
   "id": "de9a3fa8",
   "metadata": {},
   "outputs": [],
   "source": []
  }
 ],
 "metadata": {
  "kernelspec": {
   "display_name": "Python 3",
   "language": "python",
   "name": "python3"
  },
  "language_info": {
   "codemirror_mode": {
    "name": "ipython",
    "version": 3
   },
   "file_extension": ".py",
   "mimetype": "text/x-python",
   "name": "python",
   "nbconvert_exporter": "python",
   "pygments_lexer": "ipython3",
   "version": "3.8.10"
  }
 },
 "nbformat": 4,
 "nbformat_minor": 5
}
