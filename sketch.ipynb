{
 "cells": [
  {
   "cell_type": "code",
   "execution_count": 2,
   "id": "84a0f5ad",
   "metadata": {},
   "outputs": [
    {
     "name": "stdout",
     "output_type": "stream",
     "text": [
      "0b11\n",
      "0b1\n"
     ]
    }
   ],
   "source": [
    "print(bin(3))\n",
    "print(bin(1))"
   ]
  },
  {
   "cell_type": "code",
   "execution_count": 3,
   "id": "54b60b2d",
   "metadata": {},
   "outputs": [
    {
     "data": {
      "text/plain": [
       "'0b1'"
      ]
     },
     "execution_count": 3,
     "metadata": {},
     "output_type": "execute_result"
    }
   ],
   "source": [
    "bin(1)"
   ]
  },
  {
   "cell_type": "code",
   "execution_count": 4,
   "id": "9d5a796a",
   "metadata": {},
   "outputs": [
    {
     "data": {
      "text/plain": [
       "'0b1010'"
      ]
     },
     "execution_count": 4,
     "metadata": {},
     "output_type": "execute_result"
    }
   ],
   "source": [
    "bin(10)"
   ]
  },
  {
   "cell_type": "code",
   "execution_count": 10,
   "id": "f8668663",
   "metadata": {},
   "outputs": [
    {
     "data": {
      "text/plain": [
       "'0100'"
      ]
     },
     "execution_count": 10,
     "metadata": {},
     "output_type": "execute_result"
    }
   ],
   "source": [
    "format(4,\"b\").zfill(4)"
   ]
  },
  {
   "cell_type": "code",
   "execution_count": 28,
   "id": "b52ada48",
   "metadata": {},
   "outputs": [
    {
     "data": {
      "text/plain": [
       "'0001'"
      ]
     },
     "execution_count": 28,
     "metadata": {},
     "output_type": "execute_result"
    }
   ],
   "source": [
    "k = format(1,\"b\").zfill(4)\n",
    "k"
   ]
  },
  {
   "cell_type": "code",
   "execution_count": 29,
   "id": "0b353eea",
   "metadata": {},
   "outputs": [
    {
     "data": {
      "text/plain": [
       "3"
      ]
     },
     "execution_count": 29,
     "metadata": {},
     "output_type": "execute_result"
    }
   ],
   "source": [
    "k.find(\"1\")"
   ]
  },
  {
   "cell_type": "code",
   "execution_count": 30,
   "id": "6b6caf24",
   "metadata": {},
   "outputs": [
    {
     "data": {
      "text/plain": [
       "1"
      ]
     },
     "execution_count": 30,
     "metadata": {},
     "output_type": "execute_result"
    }
   ],
   "source": [
    "abs((bin(4).zfill(4)).find(\"1\") - (bin(1).zfill(4)).find(\"1\"))"
   ]
  },
  {
   "cell_type": "code",
   "execution_count": 31,
   "id": "874b24fb",
   "metadata": {},
   "outputs": [
    {
     "data": {
      "text/plain": [
       "'0b100'"
      ]
     },
     "execution_count": 31,
     "metadata": {},
     "output_type": "execute_result"
    }
   ],
   "source": [
    "(bin(4).zfill(4))"
   ]
  },
  {
   "cell_type": "code",
   "execution_count": 32,
   "id": "80184967",
   "metadata": {},
   "outputs": [
    {
     "name": "stdout",
     "output_type": "stream",
     "text": [
      "0011\n",
      "0001\n"
     ]
    }
   ],
   "source": [
    "print(format(3, \"b\").zfill(4))\n",
    "print(format(1, \"b\").zfill(4))"
   ]
  },
  {
   "cell_type": "code",
   "execution_count": 33,
   "id": "050f9559",
   "metadata": {},
   "outputs": [
    {
     "data": {
      "text/plain": [
       "2"
      ]
     },
     "execution_count": 33,
     "metadata": {},
     "output_type": "execute_result"
    }
   ],
   "source": [
    "format(3, \"b\").zfill(4).find(\"1\")"
   ]
  },
  {
   "cell_type": "code",
   "execution_count": 34,
   "id": "2ea29d1f",
   "metadata": {},
   "outputs": [
    {
     "data": {
      "text/plain": [
       "3"
      ]
     },
     "execution_count": 34,
     "metadata": {},
     "output_type": "execute_result"
    }
   ],
   "source": [
    "(format(1, \"b\").zfill(4)).find(\"1\")"
   ]
  },
  {
   "cell_type": "code",
   "execution_count": 65,
   "id": "32d45721",
   "metadata": {},
   "outputs": [],
   "source": [
    "x =4\n",
    "y = 1"
   ]
  },
  {
   "cell_type": "code",
   "execution_count": 68,
   "id": "15deab8c",
   "metadata": {},
   "outputs": [
    {
     "name": "stdout",
     "output_type": "stream",
     "text": [
      "2\n"
     ]
    }
   ],
   "source": [
    "xor  = x ^ y\n",
    "xor = \"{:b}\".format(xor)\n",
    "ans = 0\n",
    "\n",
    "for i in xor:\n",
    "    ans += int(i)\n",
    "print(ans)\n",
    "    "
   ]
  },
  {
   "cell_type": "code",
   "execution_count": 56,
   "id": "eafb264f",
   "metadata": {},
   "outputs": [
    {
     "data": {
      "text/plain": [
       "5"
      ]
     },
     "execution_count": 56,
     "metadata": {},
     "output_type": "execute_result"
    }
   ],
   "source": [
    "x^y"
   ]
  },
  {
   "cell_type": "code",
   "execution_count": 53,
   "id": "005cf18e",
   "metadata": {},
   "outputs": [
    {
     "name": "stdout",
     "output_type": "stream",
     "text": [
      "00000000000000000000000000000100\n",
      "00000000000000000000000000000001\n"
     ]
    }
   ],
   "source": [
    "m = print(format(x, \"b\").zfill(32))\n",
    "n = print(format(y, \"b\").zfill(32))"
   ]
  },
  {
   "cell_type": "code",
   "execution_count": 62,
   "id": "c3226be2",
   "metadata": {},
   "outputs": [
    {
     "data": {
      "text/plain": [
       "1"
      ]
     },
     "execution_count": 62,
     "metadata": {},
     "output_type": "execute_result"
    }
   ],
   "source": [
    "(1^4)&1"
   ]
  },
  {
   "cell_type": "code",
   "execution_count": 64,
   "id": "07f8898b",
   "metadata": {},
   "outputs": [
    {
     "data": {
      "text/plain": [
       "0"
      ]
     },
     "execution_count": 64,
     "metadata": {},
     "output_type": "execute_result"
    }
   ],
   "source": [
    "0&1"
   ]
  },
  {
   "cell_type": "code",
   "execution_count": 110,
   "id": "a7d5a667",
   "metadata": {},
   "outputs": [
    {
     "data": {
      "text/plain": [
       "'1000'"
      ]
     },
     "execution_count": 110,
     "metadata": {},
     "output_type": "execute_result"
    }
   ],
   "source": [
    "j = \"{:b}\".format(8)\n",
    "j"
   ]
  },
  {
   "cell_type": "code",
   "execution_count": 111,
   "id": "2d3dc33d",
   "metadata": {},
   "outputs": [
    {
     "data": {
      "text/plain": [
       "'1'"
      ]
     },
     "execution_count": 111,
     "metadata": {},
     "output_type": "execute_result"
    }
   ],
   "source": [
    "j = j.strip('0')\n",
    "j"
   ]
  },
  {
   "cell_type": "code",
   "execution_count": 112,
   "id": "cb75e21d",
   "metadata": {},
   "outputs": [
    {
     "data": {
      "text/plain": [
       "['', '']"
      ]
     },
     "execution_count": 112,
     "metadata": {},
     "output_type": "execute_result"
    }
   ],
   "source": [
    "j.split(\"1\")"
   ]
  },
  {
   "cell_type": "code",
   "execution_count": 114,
   "id": "c428e037",
   "metadata": {},
   "outputs": [
    {
     "data": {
      "text/plain": [
       "['', '', '']"
      ]
     },
     "execution_count": 114,
     "metadata": {},
     "output_type": "execute_result"
    }
   ],
   "source": [
    "c = \"11\".split(\"1\")\n",
    "c"
   ]
  },
  {
   "cell_type": "code",
   "execution_count": 109,
   "id": "904cae12",
   "metadata": {},
   "outputs": [
    {
     "name": "stdout",
     "output_type": "stream",
     "text": [
      "1\n"
     ]
    }
   ],
   "source": [
    "if j.count(\"0\") == 0:\n",
    "    print(1)\n",
    "else:\n",
    "    print(len(max(j)))"
   ]
  },
  {
   "cell_type": "code",
   "execution_count": 113,
   "id": "f43244dc",
   "metadata": {},
   "outputs": [
    {
     "data": {
      "text/plain": [
       "9"
      ]
     },
     "execution_count": 113,
     "metadata": {},
     "output_type": "execute_result"
    }
   ],
   "source": [
    "len(c)"
   ]
  },
  {
   "cell_type": "code",
   "execution_count": 116,
   "id": "3a6da072",
   "metadata": {},
   "outputs": [
    {
     "data": {
      "text/plain": [
       "['', '0', '']"
      ]
     },
     "execution_count": 116,
     "metadata": {},
     "output_type": "execute_result"
    }
   ],
   "source": [
    "n = \"101\".split(\"1\")\n",
    "n"
   ]
  },
  {
   "cell_type": "code",
   "execution_count": 118,
   "id": "ec46d1ee",
   "metadata": {},
   "outputs": [
    {
     "data": {
      "text/plain": [
       "1"
      ]
     },
     "execution_count": 118,
     "metadata": {},
     "output_type": "execute_result"
    }
   ],
   "source": [
    "max(n).count('0')"
   ]
  },
  {
   "cell_type": "code",
   "execution_count": null,
   "id": "98f3de93",
   "metadata": {},
   "outputs": [],
   "source": []
  }
 ],
 "metadata": {
  "kernelspec": {
   "display_name": "Python 3",
   "language": "python",
   "name": "python3"
  },
  "language_info": {
   "codemirror_mode": {
    "name": "ipython",
    "version": 3
   },
   "file_extension": ".py",
   "mimetype": "text/x-python",
   "name": "python",
   "nbconvert_exporter": "python",
   "pygments_lexer": "ipython3",
   "version": "3.8.10"
  }
 },
 "nbformat": 4,
 "nbformat_minor": 5
}
